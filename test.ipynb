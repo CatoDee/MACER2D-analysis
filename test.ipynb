{
 "cells": [
  {
   "cell_type": "code",
   "execution_count": 3,
   "metadata": {},
   "outputs": [
    {
     "name": "stdout",
     "output_type": "stream",
     "text": [
      "hdfra.537\n",
      "Reading ../Test38/exe_compact_S/hdfra.537 of time = 6.71\n",
      "[8.00000000e-04 9.72583899e-04 1.16242619e-03 1.37125271e-03\n",
      " 1.60096188e-03 1.85364196e-03 2.13159006e-03 2.43733296e-03\n",
      " 2.77365016e-03 3.14359907e-03 3.55054288e-03 3.99818107e-03\n",
      " 4.49058307e-03 5.03222528e-03 5.62803171e-03 6.28341878e-03\n",
      " 7.00434455e-03 7.79736291e-03 8.66968310e-03 9.62923531e-03\n",
      " 1.06847427e-02 1.18458009e-02 1.31229649e-02 1.45278453e-02\n",
      " 1.60732137e-02 1.77731190e-02 1.96430148e-02 2.16999002e-02\n",
      " 2.39624741e-02 2.64513054e-02 2.91890198e-02 3.22005057e-02\n",
      " 3.55131402e-02 3.91570381e-02 4.31653258e-02 4.75744423e-02\n",
      " 5.24244704e-02 5.77595013e-02 6.36280354e-02 7.00834228e-02\n",
      " 7.71843490e-02 8.49953678e-02 9.35874885e-02 1.03038821e-01\n",
      " 1.13435287e-01 1.24871400e-01 1.37451124e-01 1.51288820e-01\n",
      " 1.66510286e-01 1.83253898e-01 2.01671872e-01 2.21931643e-01\n",
      " 2.44217392e-01 2.68731715e-01 2.95697470e-01 3.25359801e-01\n",
      " 3.57988365e-01 3.93879785e-01 4.33360348e-01 4.76788966e-01\n",
      " 5.24560447e-01 5.77109075e-01 6.34912567e-01 6.98496407e-01\n",
      " 7.68438632e-01 8.45375079e-01 9.30005171e-01 1.02309827e+00\n",
      " 1.12550068e+00 1.23814334e+00 1.36205025e+00 1.49834786e+00\n",
      " 1.64827523e+00 1.81319534e+00 1.99460746e+00 2.19416079e+00\n",
      " 2.41366945e+00 2.65512898e+00 2.92073446e+00 3.21290049e+00\n",
      " 3.53428312e+00 3.88780402e+00 4.27667700e+00 4.70443729e+00\n",
      " 5.17497360e+00 5.69256354e+00 6.26191248e+00 6.88819631e+00\n",
      " 7.57710853e+00 8.33491197e+00 9.16849575e+00 1.00854379e+01\n",
      " 1.10940743e+01 1.22035743e+01 1.34240243e+01 1.47665193e+01\n",
      " 1.62432638e+01 1.78676828e+01 1.96545437e+01 2.16200906e+01\n",
      " 2.37821923e+01 2.61605041e+01 2.87766471e+01 3.16544044e+01\n",
      " 3.48199374e+01 3.83020237e+01 4.21323187e+01 4.63456431e+01\n",
      " 5.09803000e+01 5.60784226e+01 6.16863574e+01 6.78550857e+01\n",
      " 7.46406869e+01 8.21048482e+01 9.03154256e+01 9.93470607e+01\n",
      " 1.09281859e+02 1.20210138e+02 1.32231244e+02 1.45454461e+02\n",
      " 1.60000000e+02]\n"
     ]
    }
   ],
   "source": [
    "\n",
    "from read_hdf import read_hdf\n",
    "import numpy as np\n",
    "hdffiles =[]\n",
    "for indx in range(000,800,1):\n",
    "    hdffiles.append('hdfra.%03d'%indx) \n",
    "\n",
    "filename = hdffiles[537]  \n",
    "print(filename)\n",
    "hdfdata = read_hdf(\"../Test38/exe_compact_S/\"+filename)\n",
    "\n",
    "\n",
    "from precal import r_a, thata_a\n",
    "x = r_a(8e-4,160,1.1,120)\n",
    "y = thata_a(0.15708,2.98451,30)\n",
    "print(x)"
   ]
  },
  {
   "cell_type": "code",
   "execution_count": 1,
   "metadata": {},
   "outputs": [
    {
     "data": {
      "text/plain": [
       "[<matplotlib.lines.Line2D at 0x117deba30>]"
      ]
     },
     "execution_count": 1,
     "metadata": {},
     "output_type": "execute_result"
    },
    {
     "data": {
      "image/png": "[encoded data removed]",
      "text/plain": [
       "<Figure size 432x288 with 1 Axes>"
      ]
     },
     "metadata": {
      "needs_background": "light"
     },
     "output_type": "display_data"
    }
   ],
   "source": [
    "from smooth import smooth\n",
    "import matplotlib.pyplot as plt\n",
    "\n",
    "import importlib\n",
    "import numpy as np\n",
    "\n",
    "x = np.linspace(0,1,1000)\n",
    "#print(x)\n",
    "y = smooth(x,101)\n",
    "\n",
    "plt.plot(x,y)"
   ]
  },
  {
   "cell_type": "code",
   "execution_count": null,
   "metadata": {},
   "outputs": [],
   "source": []
  }
 ],
 "metadata": {
  "kernelspec": {
   "display_name": "Python 3.9.13 ('base')",
   "language": "python",
   "name": "python3"
  },
  "language_info": {
   "codemirror_mode": {
    "name": "ipython",
    "version": 3
   },
   "file_extension": ".py",
   "mimetype": "text/x-python",
   "name": "python",
   "nbconvert_exporter": "python",
   "pygments_lexer": "ipython3",
   "version": "3.9.13"
  },
  "orig_nbformat": 4,
  "vscode": {
   "interpreter": {
    "hash": "855ca915bca743c3d533b9a3d2c2a47b9095f1be3625e5042782e4951daaeb8f"
   }
  }
 },
 "nbformat": 4,
 "nbformat_minor": 2
}
